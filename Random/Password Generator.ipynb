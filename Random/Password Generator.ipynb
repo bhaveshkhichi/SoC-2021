{
 "cells": [
  {
   "cell_type": "code",
   "execution_count": 1,
   "metadata": {},
   "outputs": [
    {
     "name": "stdout",
     "output_type": "stream",
     "text": [
      "No. od password digits8\n",
      "pEX>#bx}\n"
     ]
    }
   ],
   "source": [
    "import random\n",
    "\n",
    "lower = \"abcdefghijklmnopqrstuvwxyz\"\n",
    "upper = lower.upper()\n",
    "numbers = \"0123456789\"\n",
    "symmbols = \"!@#$%^&*()~<>,.?/:;{}[]|\\+=\"\n",
    "\n",
    "all = lower + upper + numbers + symmbols\n",
    "length = int(input(\"No. od password digits\"))\n",
    "\n",
    "while (True):\n",
    "    if length > 89:\n",
    "        print(\"invalid input error\")\n",
    "        print(\"Please! Enter the number less then 89\")\n",
    "        length = int(input(\"No. od password digits\"))\n",
    "    else:\n",
    "        break\n",
    "        \n",
    "\n",
    "password = \"\".join(random.sample(all, length))\n",
    "\n",
    "\n",
    "print(password)\n"
   ]
  }
 ],
 "metadata": {
  "kernelspec": {
   "display_name": "Python 3",
   "language": "python",
   "name": "python3"
  },
  "language_info": {
   "codemirror_mode": {
    "name": "ipython",
    "version": 3
   },
   "file_extension": ".py",
   "mimetype": "text/x-python",
   "name": "python",
   "nbconvert_exporter": "python",
   "pygments_lexer": "ipython3",
   "version": "3.8.3"
  }
 },
 "nbformat": 4,
 "nbformat_minor": 4
}
