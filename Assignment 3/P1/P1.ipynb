{
 "cells": [
  {
   "cell_type": "code",
   "execution_count": 1,
   "metadata": {},
   "outputs": [],
   "source": [
    "import numpy as np\n",
    "import pandas as pd\n",
    "import math\n",
    "import matplotlib.pyplot as plt\n",
    "%matplotlib inline"
   ]
  },
  {
   "cell_type": "code",
   "execution_count": 7,
   "metadata": {},
   "outputs": [
    {
     "name": "stdout",
     "output_type": "stream",
     "text": [
      "   x-box  y-box  width  high  onpix  x-bar  y-bar  x2bar  y2bar  xybar  x2ybr  \\\n",
      "0      4      7      5     5      4      7      6      7      5      6      4   \n",
      "1      3      9      4     7      2      7      6     14      5      8     13   \n",
      "2      3      3      4     4      1      7      7      4      4      7      6   \n",
      "3      4      5      5     4      5      8      8      4      4      7      7   \n",
      "4      6      9      8     7      5      4      9      6      7      7     10   \n",
      "\n",
      "   xy2br  x-ege  xegvy  y-ege  yegvx letter  \n",
      "0      7      3      7      3      7      N  \n",
      "1      7      3      9      0      8      U  \n",
      "2      8      3      8      4      8      X  \n",
      "3      8      5     10      9     10      S  \n",
      "4     11      3      9      1      8      U  \n"
     ]
    }
   ],
   "source": [
    "data = pd.read_csv(\"train.csv\")\n",
    "data_val = pd.read_csv(\"val.csv\")\n",
    "print(data.head())"
   ]
  },
  {
   "cell_type": "code",
   "execution_count": 15,
   "metadata": {},
   "outputs": [
    {
     "name": "stdout",
     "output_type": "stream",
     "text": [
      "[[-0.6633796   1.399228   -0.6633796  ...  0.71169215  1.0554601\n",
      "   1.399228  ]\n",
      " [-0.31961167 -0.31961167  0.02415627 ...  0.71169215 -0.6633796\n",
      "   0.71169215]\n",
      " [-0.31961167 -0.31961167 -0.31961167 ...  0.71169215 -1.0071476\n",
      "   0.02415627]\n",
      " ...\n",
      " [-0.6633796  -0.31961167 -0.31961167 ...  0.71169215 -2.0384514\n",
      "   0.71169215]\n",
      " [-1.0071476   1.0554601  -0.31961167 ...  0.71169215 -0.31961167\n",
      "   1.399228  ]\n",
      " [-1.3509154   0.71169215 -1.3509154  ...  0.02415627 -2.0384514\n",
      "   0.71169215]]\n",
      "[[-0.6633796   0.3679242  -0.31961167 ...  0.3679242  -1.0071476\n",
      "   0.3679242 ]\n",
      " [-1.0071476   1.0554601  -0.6633796  ...  1.0554601  -2.0384514\n",
      "   0.71169215]\n",
      " [-1.0071476  -1.0071476  -0.6633796  ...  0.71169215 -0.6633796\n",
      "   0.71169215]\n",
      " ...\n",
      " [-1.0071476  -0.6633796   0.02415627 ...  0.3679242  -1.0071476\n",
      "   1.0554601 ]\n",
      " [-1.0071476   0.71169215 -0.6633796  ...  0.71169215 -1.6946834\n",
      "   0.3679242 ]\n",
      " [-1.6946834  -1.0071476  -1.3509154  ...  0.3679242  -2.0384514\n",
      "   0.3679242 ]]\n",
      "\n",
      "\n",
      "0       B\n",
      "1       D\n",
      "2       F\n",
      "3       U\n",
      "4       L\n",
      "       ..\n",
      "3495    E\n",
      "3496    T\n",
      "3497    T\n",
      "3498    I\n",
      "3499    J\n",
      "Name: letter, Length: 3500, dtype: object\n",
      "0        N\n",
      "1        U\n",
      "2        X\n",
      "3        S\n",
      "4        U\n",
      "        ..\n",
      "12995    G\n",
      "12996    Z\n",
      "12997    X\n",
      "12998    I\n",
      "12999    J\n",
      "Name: letter, Length: 13000, dtype: object\n"
     ]
    }
   ],
   "source": [
    "x_val = data_val.iloc[:,:-1].values.astype('float32')\n",
    "y_val = data_val.iloc[:,-1]\n",
    "x_tr = data.iloc[:,:-1].values.astype('float32')\n",
    "y_tr = data.iloc[:,-1]\n",
    "\n",
    "mean_x = x_tr.mean().astype(np.float32)\n",
    "std_x = x_tr.std().astype(np.float32)\n",
    "\n",
    "def stdize(x): \n",
    "    z = (x-mean_x)/std_x\n",
    "    return z\n",
    "\n",
    "x_val = stdize(x_val)\n",
    "x_tr = stdize(x_tr)\n",
    "\n",
    "print(x_val)\n",
    "print(x_tr)\n",
    "print('\\n') \n",
    "print(y_val)\n",
    "print(y_tr)"
   ]
  },
  {
   "cell_type": "code",
   "execution_count": null,
   "metadata": {},
   "outputs": [],
   "source": []
  },
  {
   "cell_type": "code",
   "execution_count": null,
   "metadata": {},
   "outputs": [],
   "source": []
  },
  {
   "cell_type": "code",
   "execution_count": null,
   "metadata": {},
   "outputs": [],
   "source": []
  }
 ],
 "metadata": {
  "kernelspec": {
   "display_name": "Python 3",
   "language": "python",
   "name": "python3"
  },
  "language_info": {
   "codemirror_mode": {
    "name": "ipython",
    "version": 3
   },
   "file_extension": ".py",
   "mimetype": "text/x-python",
   "name": "python",
   "nbconvert_exporter": "python",
   "pygments_lexer": "ipython3",
   "version": "3.8.3"
  }
 },
 "nbformat": 4,
 "nbformat_minor": 4
}
